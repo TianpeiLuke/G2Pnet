{
 "cells": [
  {
   "cell_type": "markdown",
   "metadata": {},
   "source": [
    "We check the implementation of G2PnetSovler class in ../src/\n",
    "\n",
    "Created by Tianpei Xie, 03/30/2016\n",
    "\n",
    "Last Edit 03/30/2016"
   ]
  },
  {
   "cell_type": "code",
   "execution_count": 79,
   "metadata": {
    "collapsed": true
   },
   "outputs": [],
   "source": [
    "import networkx as nx\n",
    "import numpy as np\n",
    "import matplotlib.pyplot as plt\n",
    "import scipy as sp\n",
    "import seaborn as sns\n",
    "import pandas as pd\n",
    "from sklearn.cross_validation import train_test_split\n",
    "from sklearn.metrics.pairwise import rbf_kernel, pairwise_kernels\n",
    "import GPy\n",
    "import GPy.util as gutil\n",
    "\n",
    "%matplotlib inline \n",
    "\n",
    "plt.close('all')\n",
    "Ifsavefig =  False\n",
    "Ifsavedata = False"
   ]
  },
  {
   "cell_type": "markdown",
   "metadata": {},
   "source": [
    "The network generating"
   ]
  },
  {
   "cell_type": "code",
   "execution_count": 80,
   "metadata": {
    "collapsed": true
   },
   "outputs": [],
   "source": [
    "size = 40\n",
    "color_map = {0:'r', 1:'c', 2:'y'}\n",
    "#center = np.zeros(2)\n",
    "#center[1] = 1\n",
    "center = None\n",
    "\n",
    "n = 40\n",
    "m = 0\n",
    "G0= nx.barbell_graph(n,m) \n",
    "#generate the bar-bell graph, which consists of two fully connected component and a path connecting them \n",
    "\n",
    "label0 = np.zeros([2*n,1])\n",
    "label0[n:2*n] = np.ones([n,1])\n",
    "# labeling of the cluster\n",
    "for node in G0.nodes():\n",
    "    G0.node[node]['category'] = int(label0[node,0])"
   ]
  },
  {
   "cell_type": "code",
   "execution_count": 81,
   "metadata": {
    "collapsed": true
   },
   "outputs": [],
   "source": [
    "#generate the eigenspace of normalized Laplacian\n",
    "k = 3\n",
    "nnodes = nx.adjacency_matrix(G0).shape[0]\n",
    "\n",
    "ncv=max(2*k+1,int(np.sqrt(nnodes)))\n",
    "\n",
    "eigenvalues,eigenvectors= sp.sparse.linalg.eigsh(nx.laplacian_matrix(G0).asfptype(), k=k, \\\n",
    "                                                which='SM', return_eigenvectors = True, ncv=ncv)\n",
    "index=np.argsort(eigenvalues)[1:k] # 0 index is zero eigenvalue    \n",
    "pos_spectral_mat = np.real(eigenvectors[:,index]) #pos_spectral_mat is the spectral location of the nodes\n",
    "pos_spectral_df = pd.DataFrame(data=pos_spectral_mat, columns=['PX','PY'], dtype=float)\n",
    "pos_spectral_df['LABEL'] = label0"
   ]
  },
  {
   "cell_type": "markdown",
   "metadata": {},
   "source": [
    "The node attributes generating"
   ]
  },
  {
   "cell_type": "code",
   "execution_count": 82,
   "metadata": {
    "collapsed": true
   },
   "outputs": [],
   "source": [
    "T= 2\n",
    "c = 2*np.pi*0.8\n",
    "data_np = np.zeros([nnodes, T])\n",
    "column_name = []\n",
    "for t in np.arange(1,T+1):\n",
    "    temp1 = np.multiply(pos_spectral_df['PX'].apply(lambda x: np.exp(-c*t*x)).values, \\\n",
    "                          pos_spectral_df['PY'].apply(lambda y: np.cos(c*t*y)).values)\n",
    "    data_np[:,t-1] = temp1\n",
    "    if t == 1:\n",
    "        column_name = str(t-1)+\"_cos\"\n",
    "    else:    \n",
    "        column_name = [column_name, str(t-1)+\"_cos\"]\n",
    "\n",
    "sigma = 0.1        \n",
    "data_np = np.add(data_np, sigma*np.random.randn(nnodes, T))    \n",
    "data_df = pd.DataFrame(data=data_np, columns=column_name, dtype=float)\n",
    "data_df['LABEL'] = label0"
   ]
  },
  {
   "cell_type": "code",
   "execution_count": 83,
   "metadata": {
    "collapsed": true
   },
   "outputs": [],
   "source": [
    "X= data_np\n",
    "U= pos_spectral_mat\n",
    "nsample, ndim = X.shape\n",
    "_ , ndim_latent = U.shape\n",
    "\n",
    "kern = GPy.kern.RBF(2) "
   ]
  },
  {
   "cell_type": "markdown",
   "metadata": {},
   "source": [
    "Import from the G2PnetSolver_v1.py "
   ]
  },
  {
   "cell_type": "code",
   "execution_count": 84,
   "metadata": {
    "collapsed": true
   },
   "outputs": [],
   "source": [
    "import sys\n",
    "sys.path.insert(0, '/home/tianpei/Dropbox/Codes/Python/src/')"
   ]
  },
  {
   "cell_type": "code",
   "execution_count": 124,
   "metadata": {
    "collapsed": false
   },
   "outputs": [
    {
     "data": {
      "text/plain": [
       "<module 'G2PnetSolver_v1' from '/home/tianpei/Dropbox/Codes/Python/src/G2PnetSolver_v1.py'>"
      ]
     },
     "execution_count": 124,
     "metadata": {},
     "output_type": "execute_result"
    }
   ],
   "source": [
    "#import G2PnetSolver_v1\n",
    "from imp import reload\n",
    "reload(G2PnetSolver_v1)"
   ]
  },
  {
   "cell_type": "code",
   "execution_count": 125,
   "metadata": {
    "collapsed": true
   },
   "outputs": [],
   "source": [
    "from G2PnetSolver_v1 import  G2PnetSolver as Solver"
   ]
  },
  {
   "cell_type": "code",
   "execution_count": 165,
   "metadata": {
    "collapsed": false
   },
   "outputs": [],
   "source": [
    "np.random.seed(seed=123)\n",
    "Temp = np.random.rand(nnodes, nnodes)\n",
    "Temp_sym = (Temp + Temp.T) / 2 \n",
    "_, U_temp = np.linalg.eig(Temp_sym)\n",
    "U_test = U_temp[:, np.arange(ndim_latent)]"
   ]
  },
  {
   "cell_type": "code",
   "execution_count": 166,
   "metadata": {
    "collapsed": false
   },
   "outputs": [
    {
     "name": "stdout",
     "output_type": "stream",
     "text": [
      "Kernel initialization ...\n"
     ]
    }
   ],
   "source": [
    "eta = 0.001\n",
    "solver = Solver(X=X, U=U_test, kernel=kern, eta=eta)"
   ]
  },
  {
   "cell_type": "code",
   "execution_count": 167,
   "metadata": {
    "collapsed": false
   },
   "outputs": [
    {
     "name": "stdout",
     "output_type": "stream",
     "text": [
      "[step   0] negative-log-likelihood -2468.213582 stepsize 0.001\n",
      "The gradient of L w.r.t. U not been computed. Just compute it anyway.\n",
      "The gradient of L w.r.t K not been computed. Just compute it anyway.\n",
      "The gradient of K w.r.t. U not been computed. Just compute it anyway\n",
      "[step   1] negative-log-likelihood -2470.498071 stepsize 0.001\n",
      "[step   2] negative-log-likelihood -2470.231945 stepsize 0.001\n",
      "[step   3] negative-log-likelihood -2469.794499 stepsize 0.001\n",
      "[step   4] negative-log-likelihood -2469.723924 stepsize 0.001\n",
      "[step   5] negative-log-likelihood -2467.668411 stepsize 0.001\n",
      "[step   6] negative-log-likelihood -2469.549621 stepsize 0.001\n",
      "[step   7] negative-log-likelihood -2469.264020 stepsize 0.001\n",
      "[step   8] negative-log-likelihood -2466.982153 stepsize 0.001\n",
      "[step   9] negative-log-likelihood -2472.746839 stepsize 0.001\n",
      "[step  10] negative-log-likelihood -2467.051115 stepsize 0.001\n",
      "[step  11] negative-log-likelihood -2472.459525 stepsize 0.001\n",
      "[step  12] negative-log-likelihood -2469.849403 stepsize 0.001\n",
      "[step  13] negative-log-likelihood -2470.245799 stepsize 0.001\n",
      "[step  14] negative-log-likelihood -2472.835501 stepsize 0.001\n",
      "[step  15] negative-log-likelihood -2468.906049 stepsize 0.001\n",
      "[step  16] negative-log-likelihood -2467.555686 stepsize 0.001\n",
      "[step  17] negative-log-likelihood -2468.140215 stepsize 0.001\n",
      "[step  18] negative-log-likelihood -2470.064432 stepsize 0.001\n",
      "[step  19] negative-log-likelihood -2467.951431 stepsize 0.001\n"
     ]
    }
   ],
   "source": [
    "max_iters = 20\n",
    "hist_nll, hist_eta, hist_kern = solver.optimize(max_iters = max_iters)"
   ]
  },
  {
   "cell_type": "code",
   "execution_count": 168,
   "metadata": {
    "collapsed": false
   },
   "outputs": [
    {
     "name": "stdout",
     "output_type": "stream",
     "text": [
      "Kernel initialization ...\n",
      "[step   0] negative-log-likelihood -2470.029516 stepsize 0.001\n",
      "The gradient of L w.r.t. U not been computed. Just compute it anyway.\n",
      "The gradient of L w.r.t K not been computed. Just compute it anyway.\n",
      "The gradient of K w.r.t. U not been computed. Just compute it anyway\n",
      "[step   1] negative-log-likelihood -2472.226413 stepsize 0.001\n",
      "[step   2] negative-log-likelihood -2471.708810 stepsize 0.001\n",
      "[step   3] negative-log-likelihood -2473.885239 stepsize 0.001\n",
      "[step   4] negative-log-likelihood -2466.678505 stepsize 0.001\n",
      "[step   5] negative-log-likelihood -2468.262427 stepsize 0.001\n",
      "[step   6] negative-log-likelihood -2469.136259 stepsize 0.001\n",
      "[step   7] negative-log-likelihood -2472.072130 stepsize 0.001\n",
      "[step   8] negative-log-likelihood -2471.183851 stepsize 0.001\n",
      "[step   9] negative-log-likelihood -2470.802035 stepsize 0.001\n",
      "[step  10] negative-log-likelihood -2472.414209 stepsize 0.001\n",
      "[step  11] negative-log-likelihood -2471.154711 stepsize 0.001\n",
      "[step  12] negative-log-likelihood -2469.518250 stepsize 0.001\n",
      "[step  13] negative-log-likelihood -2473.194918 stepsize 0.001\n",
      "[step  14] negative-log-likelihood -2471.203359 stepsize 0.001\n",
      "[step  15] negative-log-likelihood -2470.786460 stepsize 0.001\n",
      "[step  16] negative-log-likelihood -2467.830879 stepsize 0.001\n",
      "[step  17] negative-log-likelihood -2469.869506 stepsize 0.001\n",
      "[step  18] negative-log-likelihood -2471.531798 stepsize 0.001\n",
      "[step  19] negative-log-likelihood -2471.629287 stepsize 0.001\n"
     ]
    }
   ],
   "source": [
    "eta = eta\n",
    "solver2 = Solver(X=X, U=U_test, kernel=kern, eta=eta)\n",
    "max_iters = 20\n",
    "hist_nll2, hist_eta, hist_kern = solver2.optimize(max_iters = max_iters, optimizor = \"grad_descent_grass\")"
   ]
  },
  {
   "cell_type": "code",
   "execution_count": 177,
   "metadata": {
    "collapsed": false
   },
   "outputs": [
    {
     "data": {
      "image/png": "[encoded data removed]",
      "text/plain": [
       "<matplotlib.figure.Figure at 0x7f2e7dc565f8>"
      ]
     },
     "metadata": {},
     "output_type": "display_data"
    }
   ],
   "source": [
    "fig= plt.figure(4)\n",
    "fig.set_size_inches(10.0, 6.0)\n",
    "plt.style.use('seaborn-white')\n",
    "ax = plt.axes()\n",
    "h1, = plt.plot(np.arange(max_iters), hist_nll, 'b')\n",
    "h2, = plt.plot(np.arange(max_iters), hist_nll2, 'r')\n",
    "ax.legend([h1, h2], [r\"Euclidean ($\\eta$ = {0:5.4f})\".format(eta), r\"Grassmann ($\\eta$ = {0:5.4f})\".format(eta)], \\\n",
    "          fontsize = 15, loc='upper right', frameon=True)\n",
    "plt.grid(1)\n",
    "plt.ylabel('negative log-likelihood', fontsize = 15)\n",
    "plt.xlabel('iterations', fontsize = 15)\n",
    "plt.xticks(fontsize=15)\n",
    "plt.yticks(fontsize=15)\n",
    "plt.show\n",
    "if Ifsavefig:\n",
    "    fig.savefig('../figures/nll_iters_Grass_Eu_rand_03_30_16.eps')"
   ]
  }
 ],
 "metadata": {
  "kernelspec": {
   "display_name": "Python 3",
   "language": "python",
   "name": "python3"
  },
  "language_info": {
   "codemirror_mode": {
    "name": "ipython",
    "version": 3
   },
   "file_extension": ".py",
   "mimetype": "text/x-python",
   "name": "python",
   "nbconvert_exporter": "python",
   "pygments_lexer": "ipython3",
   "version": "3.5.1"
  }
 },
 "nbformat": 4,
 "nbformat_minor": 0
}
