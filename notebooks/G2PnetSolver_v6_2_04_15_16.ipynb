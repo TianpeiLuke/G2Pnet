{
 "cells": [
  {
   "cell_type": "markdown",
   "metadata": {},
   "source": [
    "# G$^2$Pnet: The Grassmanian Gaussian Process Network\n",
    "We check the implementation of G2PnetSolver (ver 6.) with conjugate gradient descent class in ../src/\n",
    "\n",
    "Created by Tianpei Xie, 04/13/2016\n",
    "\n",
    "Last Edit 04/14/2016"
   ]
  },
  {
   "cell_type": "code",
   "execution_count": null,
   "metadata": {
    "collapsed": false
   },
   "outputs": [],
   "source": [
    "%reset\n",
    "import networkx as nx\n",
    "import numpy as np\n",
    "import matplotlib.pyplot as plt\n",
    "import scipy as sp\n",
    "import seaborn as sns\n",
    "import pandas as pd\n",
    "from sklearn.cross_validation import train_test_split\n",
    "from sklearn.metrics.pairwise import rbf_kernel, pairwise_kernels\n",
    "import GPy\n",
    "import GPy.util as gutil\n",
    "\n",
    "%matplotlib inline \n",
    "plt.close('all')"
   ]
  },
  {
   "cell_type": "code",
   "execution_count": null,
   "metadata": {
    "collapsed": true
   },
   "outputs": [],
   "source": [
    "Ifsavefig =  True\n",
    "Ifsavedata = False #True\n",
    "trial = 0"
   ]
  },
  {
   "cell_type": "code",
   "execution_count": null,
   "metadata": {
    "collapsed": true
   },
   "outputs": [],
   "source": [
    "G=nx.read_adjlist(\"../data/04_01_2016_experiment8.adjlist\")"
   ]
  },
  {
   "cell_type": "markdown",
   "metadata": {},
   "source": [
    "size = 40\n",
    "color_map = {0:'r', 1:'c', 2:'y'}\n",
    "#center = np.zeros(2)\n",
    "#center[1] = 1\n",
    "center = None\n",
    "\n",
    "n = 40\n",
    "m = 0\n",
    "G0= nx.barbell_graph(n,m) \n",
    "#generate the bar-bell graph, which consists of two fully connected component and a path connecting them \n",
    "\n",
    "label0 = np.zeros([2*n,1])\n",
    "label0[n:2*n] = np.ones([n,1])\n",
    "#### labeling of the cluster\n",
    "for node in G0.nodes():\n",
    "    G0.node[node]['category'] = int(label0[node,0])"
   ]
  },
  {
   "cell_type": "code",
   "execution_count": null,
   "metadata": {
    "collapsed": false
   },
   "outputs": [],
   "source": [
    "data_df = pd.read_csv(\"../data/04_01_2016_experiment8_X.csv\", index_col = 'ID')\n",
    "spectral_df = pd.read_csv(\"../data/04_01_2016_experiment8_U.csv\", index_col ='ID')\n",
    "U_init_pd = pd.read_csv(\"../data/04_01_16_8_U_init.csv\", index_col = 0)"
   ]
  },
  {
   "cell_type": "code",
   "execution_count": null,
   "metadata": {
    "collapsed": false
   },
   "outputs": [],
   "source": [
    "X = data_df.loc[:,['0_cos','1_cos']].values\n",
    "U = spectral_df.loc[:,['PX','PY']].values\n",
    "labels = data_df.loc[:,'LABEL'].values\n",
    "U_init = U_init_pd.loc[:,['0','1']].values"
   ]
  },
  {
   "cell_type": "code",
   "execution_count": null,
   "metadata": {
    "collapsed": false
   },
   "outputs": [],
   "source": [
    "nsample, ndim = X.shape\n",
    "_ , ndim_latent = U.shape"
   ]
  },
  {
   "cell_type": "code",
   "execution_count": null,
   "metadata": {
    "collapsed": true
   },
   "outputs": [],
   "source": [
    "import sys\n",
    "import os\n",
    "dirorg = os.path.dirname(os.getcwd())\n",
    "sys.path.insert(0, dirorg+\"/src/\")"
   ]
  },
  {
   "cell_type": "code",
   "execution_count": null,
   "metadata": {
    "collapsed": false
   },
   "outputs": [],
   "source": [
    "import G2PnetSolver_v6 #G2PnetSolver_v2\n",
    "#from imp import reload\n",
    "#reload(G2PnetSolver_v2)"
   ]
  },
  {
   "cell_type": "code",
   "execution_count": null,
   "metadata": {
    "collapsed": true
   },
   "outputs": [],
   "source": [
    "from G2PnetSolver_v6 import  G2PnetSolver as Solver\n",
    "from G2PnetSolver_v6 import  Grassmann_update, check_step"
   ]
  },
  {
   "cell_type": "code",
   "execution_count": null,
   "metadata": {
    "collapsed": true
   },
   "outputs": [],
   "source": [
    "choice = \"near\"\n",
    "IfGen = False"
   ]
  },
  {
   "cell_type": "code",
   "execution_count": null,
   "metadata": {
    "collapsed": true
   },
   "outputs": [],
   "source": [
    "if IfGen:\n",
    "    np.random.seed(seed=150)\n",
    "\n",
    "    if choice == \"random\":\n",
    "        print(\"Random Initialization\")\n",
    "        Temp = np.random.randn(nsample, nsample)\n",
    "        Temp_sym = (Temp + Temp.T) / 2 \n",
    "        _, U_temp = np.linalg.eig(Temp_sym)\n",
    "        U_test = U_temp[:, np.arange(ndim_latent)]\n",
    "        U0 = U_test\n",
    "    elif choice == \"near\":\n",
    "        print(\"Initialization in neigborhood.\")\n",
    "        U0 = U\n",
    "\n",
    "    ones = np.ones([nsample,])/np.sqrt(nsample)\n",
    "    eta0 = 0.75\n",
    "    np.random.seed(seed=160)\n",
    "    G_temp = np.random.randn(nsample, ndim_latent) / (np.sqrt(nsample * ndim_latent))\n",
    "    H_temp = -np.dot((np.eye(nsample) - gutil.linalg.tdot(np.column_stack((U0, ones)))),G_temp)\n",
    "    print(str(check_step(H_temp, eta0)))\n",
    "\n",
    "    while not check_step(H_temp, eta0):\n",
    "        np.random.seed(seed=160)\n",
    "        G_temp = np.random.randn(nsample, ndim_latent) / np.sqrt(nsample * ndim_latent)\n",
    "        H_temp = -np.dot((np.eye(nsample) - gutil.linalg.tdot(np.column_stack((U0, ones)))),G_temp)\n",
    "    U_init = Grassmann_update(U0, H_temp, eta=eta0)"
   ]
  },
  {
   "cell_type": "code",
   "execution_count": null,
   "metadata": {
    "collapsed": true
   },
   "outputs": [],
   "source": [
    "if Ifsavedata:\n",
    "    U_columns = [str(i) for i in np.arange(ndim_latent)]\n",
    "    U_df = pd.DataFrame(data = U_init, columns=U_columns, dtype= float)\n",
    "    if choice == \"random\":\n",
    "        U_df['RANDOM'] = np.ones([nsample, 1])\n",
    "    elif choice == \"near\":\n",
    "        U_df['RANDOM'] = np.zeros([nsample, 1])\n",
    "    \n",
    "    U_df.to_csv(\"../data/04_15_16_\" + str(trial)  + \"_U_init.csv\")"
   ]
  },
  {
   "cell_type": "code",
   "execution_count": null,
   "metadata": {
    "collapsed": false
   },
   "outputs": [],
   "source": [
    "add_reg = True\n",
    "max_iters = 1000\n",
    "#eta_array = np.array([1e-3, 2e-3, 5e-3])\n",
    "#lambda_var = 1\n",
    "eta = 2e-3\n",
    "lambda_array = np.array([0,1,100]) \n",
    "array_temp = lambda_array#eta_array\n",
    "\n",
    "kern_array = [GPy.kern.RBF(2) + GPy.kern.White(2) for i in np.arange(len(array_temp))]\n",
    "kern_grass_array = [GPy.kern.RBF(2)+ GPy.kern.White(2)  for i in np.arange(len(array_temp))]\n",
    "kern_conjugate_grass_array = [GPy.kern.RBF(2)+ GPy.kern.White(2) for i in np.arange(len(array_temp))]\n",
    "noise_interval = np.array([0.24,0.25])"
   ]
  },
  {
   "cell_type": "code",
   "execution_count": null,
   "metadata": {
    "collapsed": true
   },
   "outputs": [],
   "source": [
    "solver_array = []\n",
    "hist_nll_eu_array = []\n",
    "hist_nll_grass_array = []\n",
    "hist_nll_conjugate_grass_array = []\n",
    "hist_Hsig_array = []\n",
    "hist_Hsig_conjugate_array = []\n",
    "hist_Gnorm_array = []\n",
    "hist_Gnorm_conjugate_array = []\n",
    "hist_gamma_array = []\n",
    "hist_deltaG_array = []\n",
    "hist_condK_array = []\n",
    "hist_condK_grass_array = []\n",
    "hist_condK_conjugate_array = []\n",
    "hist_cond2K_array = []\n",
    "hist_cond2K_grass_array = []\n",
    "hist_cond2K_conjugate_array = []\n",
    "hist_kern_eu_array = []\n",
    "hist_kern_grass_array = []\n",
    "hist_kern_grass2_array = []"
   ]
  },
  {
   "cell_type": "code",
   "execution_count": null,
   "metadata": {
    "collapsed": false
   },
   "outputs": [],
   "source": [
    "fig= plt.figure(1)\n",
    "fig.set_size_inches(12.0, 30.0)\n",
    "plt.style.use('seaborn-white')\n",
    "\n",
    "\n",
    "\n",
    "for i, lambda_var in enumerate(array_temp): \n",
    "    ax = plt.subplot(5,1,i+1)\n",
    "    solver = Solver(X=X, U=U_init, kernel=kern_array[i], U_ref= U, \\\n",
    "                    noise_interval = noise_interval, add_reg = add_reg, lambda_var = lambda_var, eta=eta)\n",
    "    hist_nll_eu, hist_eta, hist_kern_eu, hist_Hsig_eu = solver.optimize(max_iters = max_iters, optimizor = \"gd\")\n",
    "    solver_array.append(solver)\n",
    "    hist_cond2K_array.append(solver.hist_cond_dK)\n",
    "    hist_condK_array.append(solver.hist_cond_K)\n",
    "    hist_nll_eu_array.append(hist_nll_eu)\n",
    "    hist_kern_eu_array.append(hist_kern_eu)\n",
    "    \n",
    "    \n",
    "    solver2 = Solver(X=X, U=U_init, kernel=kern_grass_array[i], U_ref = U, \\\n",
    "                     noise_interval = noise_interval, add_reg = add_reg, lambda_var = lambda_var, eta=eta)\n",
    "    hist_nll_grass, hist_eta, hist_kern_grass, hist_Hsig_grass = \\\n",
    "                      solver2.optimize(max_iters = max_iters, optimizor = \"gd_grass\")\n",
    "    hist_Hsig_array.append(hist_Hsig_grass)\n",
    "    hist_Gnorm_array.append(solver2.hist_G_norm)\n",
    "    hist_cond2K_grass_array.append(solver2.hist_cond_dK)\n",
    "    hist_condK_grass_array.append(solver2.hist_cond_K)\n",
    "    \n",
    "    solver_array.append(solver2)\n",
    "    hist_nll_grass_array.append(hist_nll_grass)\n",
    "    hist_kern_grass_array.append(hist_kern_grass)\n",
    "    \n",
    "    solver3 = Solver(X=X, U=U_init, kernel=kern_conjugate_grass_array[i], U_ref = U, \\\n",
    "                     noise_interval = noise_interval, add_reg = add_reg, lambda_var = lambda_var, eta=eta)\n",
    "    hist_nll_grass2, hist_eta2, hist_kern_grass2, hist_Hsig_grass2 = \\\n",
    "                      solver3.optimize(max_iters = max_iters, optimizor = \"cg_grass\")\n",
    "    hist_Hsig_conjugate_array.append(hist_Hsig_grass2)    \n",
    "    hist_Gnorm_conjugate_array.append(solver3.hist_G_norm)   \n",
    "    hist_deltaG_array.append(solver3.hist_delta_G)\n",
    "    hist_gamma_array.append(solver3.hist_gamma)\n",
    "    hist_cond2K_conjugate_array.append(solver3.hist_cond_dK)\n",
    "    hist_condK_conjugate_array.append(solver3.hist_cond_K)\n",
    "\n",
    "    solver_array.append(solver3)\n",
    "    hist_nll_conjugate_grass_array.append(hist_nll_grass2)\n",
    "    hist_kern_grass2_array.append(hist_kern_grass2)\n",
    "    \n",
    "    %xdel solver\n",
    "    %xdel solver2\n",
    "    %xdel solver3"
   ]
  },
  {
   "cell_type": "code",
   "execution_count": null,
   "metadata": {
    "collapsed": false
   },
   "outputs": [],
   "source": [
    "eta"
   ]
  },
  {
   "cell_type": "code",
   "execution_count": null,
   "metadata": {
    "collapsed": false
   },
   "outputs": [],
   "source": [
    "fig= plt.figure(1)\n",
    "fig.set_size_inches(12.0, 6.0*len(array_temp))\n",
    "plt.style.use('seaborn-white')\n",
    "\n",
    "for i, lambda_var in enumerate(array_temp):\n",
    "    ax = plt.subplot(len(array_temp),1,i+1)\n",
    "    h1, = plt.plot(np.arange(max_iters), hist_nll_eu_array[i], '--g')\n",
    "    h2, = plt.plot(np.arange(max_iters), hist_nll_grass_array[i], '-b', linewidth=3.0)\n",
    "    h3, = plt.plot(np.arange(max_iters), hist_nll_conjugate_grass_array[i], '-r', linewidth=3.0)\n",
    "\n",
    "    if add_reg:\n",
    "        ax.legend([h1, h2, h3], [r\"Euclid-GD ($\\eta$ = {0:5.4f}, $\\lambda$ = {1:5.3f})\".format(eta, lambda_var), \\\n",
    "                                 r\"Grass-GD ($\\eta$ = {0:5.4f}, $\\lambda$ = {1:5.3f})\".format(eta, lambda_var), \\\n",
    "                                 r\"Grass-CG ($\\eta$ = {0:5.4f}, $\\lambda$ = {1:5.3f})\".format(eta, lambda_var)], \\\n",
    "                                 fontsize = 15, loc='upper left', frameon=True)\n",
    "    else:    \n",
    "        ax.legend([h1, h2, h3], [r\"Euclid-GD ($\\eta$ = {0:6.5f})\".format(eta), r\"Grass-GD ($\\eta$ = {0:6.5f})\".format(eta), \\\n",
    "                                 r\"Grass-CG ($\\eta$ = {0:6.5f})\".format(eta)], \\\n",
    "                             fontsize = 15, loc='upper left', frameon=True)\n",
    "    plt.grid(1)\n",
    "    plt.ylabel('negative log-likelihood', fontsize = 15)\n",
    "    plt.xlabel('iterations', fontsize = 15)\n",
    "    plt.xticks(fontsize=15)\n",
    "    plt.yticks(fontsize=15)\n",
    "    #ax.set_ylim([60, 120])\n",
    "plt.show    \n",
    "if Ifsavefig:\n",
    "    file_org = \"../figures/04_15_16_\" + str(trial) + \"_\"\n",
    "    file_tail = \"_nll_iters_GrassCG_GD_EuGD.eps\"\n",
    "    if choice == \"random\":\n",
    "        file_comment = \"rand\"\n",
    "    elif choice == \"near\":\n",
    "        file_comment = \"near\"\n",
    "        \n",
    "    if add_reg:\n",
    "        file_comment = file_comment +'Reg'\n",
    "        \n",
    "    fig.savefig(file_org + file_comment + file_tail )  "
   ]
  },
  {
   "cell_type": "code",
   "execution_count": null,
   "metadata": {
    "collapsed": false
   },
   "outputs": [],
   "source": [
    "fig= plt.figure(2)\n",
    "fig.set_size_inches(12.0, 6.0*len(array_temp))\n",
    "plt.style.use('seaborn-white')\n",
    "\n",
    "for i, lambda_var in enumerate(array_temp):\n",
    "    ax = plt.subplot(len(array_temp),1,i+1)\n",
    "    h1, = plt.plot(np.arange(max_iters), hist_Hsig_array[i][:,0], 'b')\n",
    "    h2, = plt.plot(np.arange(max_iters), hist_Hsig_array[i][:,1], 'r')\n",
    "    if add_reg:\n",
    "        ax.legend([h1, h2], [r\"(Grass-GD) 1st singular value ($\\eta$ = {0:6.5f}, $\\lambda$ = {1:5.3f})\".format(eta, lambda_var), \\\n",
    "                             r\"(Grass-GD) 2nd singular value ($\\eta$ = {0:6.5f}, $\\lambda$ = {1:5.3f})\".format(eta, lambda_var)], \\\n",
    "                             fontsize = 15, loc='upper center', frameon=True)\n",
    "    else:    \n",
    "        ax.legend([h1, h2], [r\"1st singular value ($\\eta$ = {0:6.5f})\".format(eta), r\"2nd singular value ($\\eta$ = {0:5.4f})\".format(eta)], \\\n",
    "                             fontsize = 15, loc='upper center', frameon=True)\n",
    "    plt.grid(1)\n",
    "    plt.ylabel('singular value', fontsize = 15)\n",
    "    plt.xlabel('iterations', fontsize = 15)\n",
    "    plt.xticks(fontsize=15)\n",
    "    plt.yticks(fontsize=15)\n",
    "plt.show    \n",
    "if Ifsavefig:\n",
    "    file_org = \"../figures/04_15_16_\" + str(trial) + \"_\"\n",
    "    file_tail = \"_sig_iters_Grass_GD.eps\"\n",
    "    if choice == \"random\":\n",
    "        file_comment = \"rand\"\n",
    "    elif choice == \"near\":\n",
    "        file_comment = \"near\"\n",
    "        \n",
    "    if add_reg:\n",
    "        file_comment = file_comment +'Reg'\n",
    "        \n",
    "    fig.savefig(file_org + file_comment + file_tail )  "
   ]
  },
  {
   "cell_type": "code",
   "execution_count": null,
   "metadata": {
    "collapsed": false,
    "scrolled": true
   },
   "outputs": [],
   "source": [
    "fig= plt.figure(3)\n",
    "fig.set_size_inches(12.0, 6.0*len(array_temp))\n",
    "plt.style.use('seaborn-white')\n",
    "\n",
    "for i, lambda_var in enumerate(array_temp):\n",
    "    ax = plt.subplot(len(array_temp),1,i+1)\n",
    "    h1, = plt.plot(np.arange(max_iters), hist_Hsig_conjugate_array[i][:,0], 'b')\n",
    "    h2, = plt.plot(np.arange(max_iters), hist_Hsig_conjugate_array[i][:,1], 'r')\n",
    "    if add_reg:\n",
    "        ax.legend([h1, h2], [r\"(Grass-CG) 1st singular value ($\\eta$ = {0:6.5f}, $\\lambda$ = {1:5.3f})\".format(eta, lambda_var), \\\n",
    "                             r\"(Grass-CG) 2nd singular value ($\\eta$ = {0:6.5f}, $\\lambda$ = {1:5.3f})\".format(eta, lambda_var)], \\\n",
    "                             fontsize = 15, loc='upper center', frameon=True)\n",
    "    else:    \n",
    "        ax.legend([h1, h2], [r\"1st singular value ($\\eta$ = {0:6.5f})\".format(eta), r\"2nd singular value ($\\eta$ = {0:5.4f})\".format(eta)], \\\n",
    "                             fontsize = 15, loc='upper center', frameon=True)\n",
    "    plt.grid(1)\n",
    "    plt.ylabel('singular value', fontsize = 15)\n",
    "    plt.xlabel('iterations', fontsize = 15)\n",
    "    plt.xticks(fontsize=15)\n",
    "    plt.yticks(fontsize=15)\n",
    "plt.show    \n",
    "if Ifsavefig:\n",
    "    file_org = \"../figures/04_15_16_\" + str(trial) + \"_\"\n",
    "    file_tail = \"_sig_iters_Grass_CG.eps\"\n",
    "    if choice == \"random\":\n",
    "        file_comment = \"rand\"\n",
    "    elif choice == \"near\":\n",
    "        file_comment = \"near\"\n",
    "        \n",
    "    if add_reg:\n",
    "        file_comment = file_comment +'Reg'\n",
    "        \n",
    "    fig.savefig(file_org + file_comment + file_tail )  "
   ]
  },
  {
   "cell_type": "code",
   "execution_count": null,
   "metadata": {
    "collapsed": false
   },
   "outputs": [],
   "source": [
    "fig= plt.figure(4)\n",
    "fig.set_size_inches(12.0, 6.0*len(array_temp))\n",
    "plt.style.use('seaborn-white')\n",
    "\n",
    "for i, lambda_var in enumerate(array_temp):\n",
    "    ax = plt.subplot(len(array_temp),1,i+1)\n",
    "    h1, = plt.plot(np.arange(max_iters), hist_Gnorm_array[i], 'b')\n",
    "    h2, = plt.plot(np.arange(max_iters), hist_Gnorm_conjugate_array[i], 'r')\n",
    "    if add_reg:\n",
    "        ax.legend([h1, h2], [r\"(Grass-GD) G-norm ($\\eta$ = {0:6.5f}, $\\lambda$ = {1:5.3f})\".format(eta, lambda_var), \\\n",
    "                             r\"(Grass-CG) G-norm ($\\eta$ = {0:6.5f}, $\\lambda$ = {1:5.3f})\".format(eta, lambda_var)], \\\n",
    "                             fontsize = 15, loc='upper center', frameon=True)\n",
    "    else:    \n",
    "        ax.legend([h1, h2], [r\"(Grass-GD) G-norm ($\\eta$ = {0:6.5f})\".format(eta), r\"(Grass-CG) G-norm ($\\eta$ = {0:5.4f})\".format(eta)], \\\n",
    "                             fontsize = 15, loc='upper center', frameon=True)\n",
    "    plt.grid(1)\n",
    "    plt.ylabel('norm value', fontsize = 15)\n",
    "    plt.xlabel('iterations', fontsize = 15)\n",
    "    plt.xticks(fontsize=15)\n",
    "    plt.yticks(fontsize=15)\n",
    "plt.show    \n",
    "if Ifsavefig:\n",
    "    file_org = \"../figures/04_15_16_\" + str(trial) + \"_\"\n",
    "    file_tail = \"_sig_iters_Gnorm_GDCG.eps\"\n",
    "    if choice == \"random\":\n",
    "        file_comment = \"rand\"\n",
    "    elif choice == \"near\":\n",
    "        file_comment = \"near\"\n",
    "        \n",
    "    if add_reg:\n",
    "        file_comment = file_comment +'Reg'\n",
    "        \n",
    "    fig.savefig(file_org + file_comment + file_tail )  "
   ]
  },
  {
   "cell_type": "code",
   "execution_count": null,
   "metadata": {
    "collapsed": false
   },
   "outputs": [],
   "source": [
    "len(hist_gamma_array[i])"
   ]
  },
  {
   "cell_type": "code",
   "execution_count": null,
   "metadata": {
    "collapsed": false
   },
   "outputs": [],
   "source": [
    "fig= plt.figure(1)\n",
    "fig.set_size_inches(12.0, 6.0*len(array_temp))\n",
    "plt.style.use('seaborn-white')\n",
    "\n",
    "for i, lambda_var in enumerate(array_temp):\n",
    "    ax = plt.subplot(len(array_temp),1,i+1)\n",
    "    h1, = plt.semilogy(np.arange(max_iters), hist_condK_array[i], '--g')\n",
    "    h2, = plt.semilogy(np.arange(max_iters), hist_condK_grass_array[i], '-b', linewidth=3.0)\n",
    "    h3, = plt.semilogy(np.arange(max_iters), hist_condK_conjugate_array[i], '-r', linewidth=3.0)\n",
    "\n",
    "    if add_reg:\n",
    "         ax.legend([h1, h2, h3], [r\"Euclid-GD ($\\eta$ = {0:5.4f}, $\\lambda$ = {1:5.3f})\".format(eta, lambda_var), \\\n",
    "                                  r\"Grass-GD ($\\eta$ = {0:5.4f}, $\\lambda$ = {1:5.3f})\".format(eta, lambda_var), \\\n",
    "                                  r\"Grass-CG ($\\eta$ = {0:5.4f}, $\\lambda$ = {1:5.3f})\".format(eta, lambda_var)], \\\n",
    "                             fontsize = 15, loc='upper left', frameon=True)\n",
    "    else:    \n",
    "        ax.legend([h1, h2, h3], [r\"Euclid-GD ($\\eta$ = {0:6.5f})\".format(eta), r\"Grass-GD ($\\eta$ = {0:6.5f})\".format(eta), \\\n",
    "                                 r\"Grass-CG ($\\eta$ = {0:6.5f})\".format(eta)], \\\n",
    "                             fontsize = 15, loc='upper left', frameon=True)\n",
    "    plt.grid(1)\n",
    "    plt.ylabel('condition number of K', fontsize = 15)\n",
    "    plt.xlabel('iterations', fontsize = 15)\n",
    "    plt.xticks(fontsize=15)\n",
    "    plt.yticks(fontsize=15)\n",
    "plt.show    \n",
    "if Ifsavefig:\n",
    "    file_org = \"../figures/04_15_16_\" + str(trial) + \"_\"\n",
    "    file_tail = \"_nll_iters_condK.eps\"\n",
    "    if choice == \"random\":\n",
    "        file_comment = \"rand\"\n",
    "    elif choice == \"near\":\n",
    "        file_comment = \"near\"\n",
    "        \n",
    "    if add_reg:\n",
    "        file_comment = file_comment +'Reg'\n",
    "        \n",
    "    fig.savefig(file_org + file_comment + file_tail )  "
   ]
  },
  {
   "cell_type": "code",
   "execution_count": null,
   "metadata": {
    "collapsed": false
   },
   "outputs": [],
   "source": [
    "fig= plt.figure(1)\n",
    "fig.set_size_inches(12.0, 6.0*len(array_temp))\n",
    "plt.style.use('seaborn-white')\n",
    "\n",
    "for i, lambda_var in enumerate(array_temp):\n",
    "    ax = plt.subplot(len(array_temp),1,i+1)\n",
    "    h1, = plt.semilogy(np.arange(max_iters), hist_cond2K_array[i], '--g')\n",
    "    h2, = plt.semilogy(np.arange(max_iters), hist_cond2K_grass_array[i], '-b', linewidth=3.0)\n",
    "    h3, = plt.semilogy(np.arange(max_iters), hist_cond2K_conjugate_array[i], '-r', linewidth=3.0)\n",
    "\n",
    "    if add_reg:\n",
    "         ax.legend([h1, h2, h3], [r\"Euclid-GD ($\\eta$ = {0:5.4f}, $\\lambda$ = {1:5.3f})\".format(eta, lambda_var), \\\n",
    "                                  r\"Grass-GD ($\\eta$ = {0:5.4f}, $\\lambda$ = {1:5.3f})\".format(eta, lambda_var), \\\n",
    "                                  r\"Grass-CG ($\\eta$ = {0:5.4f}, $\\lambda$ = {1:5.3f})\".format(eta, lambda_var)], \\\n",
    "                             fontsize = 15, loc='upper center', frameon=True)\n",
    "        #ax.legend([h3], [r\"Conjugate Grassmann ($\\eta$ = {0:6.5f}, $\\lambda$ = {1:5.3f})\".format(eta, lambda_array[i])], \\\n",
    "        #                     fontsize = 15, loc='upper center', frameon=True)\n",
    "    else:    \n",
    "        ax.legend([h1, h2, h3], [r\"Euclid-GD ($\\eta$ = {0:6.5f})\".format(eta), r\"Grass-GD ($\\eta$ = {0:6.5f})\".format(eta), \\\n",
    "                                 r\"Grass-CG ($\\eta$ = {0:6.5f})\".format(eta)], \\\n",
    "                             fontsize = 15, loc='upper center', frameon=True)\n",
    "    plt.grid(1)\n",
    "    plt.ylabel('condition number of dL/dK', fontsize = 15)\n",
    "    plt.xlabel('iterations', fontsize = 15)\n",
    "    plt.xticks(fontsize=15)\n",
    "    plt.yticks(fontsize=15)\n",
    "plt.show    \n",
    "if Ifsavefig:\n",
    "    file_org = \"../figures/04_15_16_\" + str(trial) + \"_\"\n",
    "    file_tail = \"_nll_iters_cond2K.eps\"\n",
    "    if choice == \"random\":\n",
    "        file_comment = \"rand\"\n",
    "    elif choice == \"near\":\n",
    "        file_comment = \"near\"\n",
    "        \n",
    "    if add_reg:\n",
    "        file_comment = file_comment +'Reg'\n",
    "        \n",
    "    fig.savefig(file_org + file_comment + file_tail )  "
   ]
  },
  {
   "cell_type": "code",
   "execution_count": null,
   "metadata": {
    "collapsed": false,
    "scrolled": true
   },
   "outputs": [],
   "source": [
    "fig= plt.figure(5)\n",
    "fig.set_size_inches(12.0, 6.0*len(array_temp))\n",
    "plt.style.use('seaborn-white')\n",
    "\n",
    "for i, lambda_var in enumerate(array_temp):\n",
    "    ax = plt.subplot(len(array_temp),1,i+1)\n",
    "    #h1, = plt.plot(np.arange(max_iters), hist_Gnorm_array[i], 'b')\n",
    "    h1, = plt.plot(np.arange(max_iters), hist_gamma_array[i], 'r')\n",
    "    if add_reg:\n",
    "        ax.legend([h1], [r\"(Grass-CG) $\\gamma$ ($\\eta$ = {0:6.5f}, $\\lambda$ = {1:5.3f})\".format(eta, lambda_var)], \\\n",
    "                             fontsize = 15, loc='upper right', frameon=True)\n",
    "        #ax.legend([h1, h2], [r\"(Grass-GD) G-norm ($\\eta$ = {0:6.5f}, $\\lambda$ = {1:5.3f})\".format(eta, lambda_array[i]), \\\n",
    "        #                     r\"(Grass-CG) G-norm ($\\eta$ = {0:6.5f}, $\\lambda$ = {1:5.3f})\".format(eta, lambda_array[i])], \\\n",
    "        #                     fontsize = 15, loc='upper center', frameon=True)\n",
    "    else:    \n",
    "        ax.legend([h1, h2], [r\"(Grass-GD) G-norm ($\\eta$ = {0:6.5f})\".format(eta), r\"(Grass-CG) G-norm ($\\eta$ = {0:5.4f})\".format(eta)], \\\n",
    "                             fontsize = 15, loc='lower center', frameon=True)\n",
    "    plt.grid(1)\n",
    "    plt.ylabel(r\"$\\gamma$\", fontsize = 15)\n",
    "    plt.xlabel('iterations', fontsize = 15)\n",
    "    plt.xticks(fontsize=15)\n",
    "    plt.yticks(fontsize=15)\n",
    "plt.show    \n",
    "if Ifsavefig:\n",
    "    file_org = \"../figures/04_15_16_\" + str(trial) + \"_\"\n",
    "    file_tail = \"_sig_iters_gamma_CG.eps\"\n",
    "    if choice == \"random\":\n",
    "        file_comment = \"rand\"\n",
    "    elif choice == \"near\":\n",
    "        file_comment = \"near\"\n",
    "        \n",
    "    if add_reg:\n",
    "        file_comment = file_comment +'Reg'\n",
    "        \n",
    "    fig.savefig(file_org + file_comment + file_tail )  "
   ]
  },
  {
   "cell_type": "code",
   "execution_count": null,
   "metadata": {
    "collapsed": false
   },
   "outputs": [],
   "source": [
    "fig= plt.figure(6)\n",
    "fig.set_size_inches(12.0, 6.0*len(array_temp))\n",
    "plt.style.use('seaborn-white')\n",
    "\n",
    "for i, lambda_var in enumerate(array_temp):\n",
    "    ax = plt.subplot(len(array_temp),1,i+1)\n",
    "    #h1, = plt.plot(np.arange(max_iters), hist_Gnorm_array[i], 'b')\n",
    "    h1, = plt.plot(np.arange(max_iters), hist_deltaG_array[i], 'r')\n",
    "    if add_reg:\n",
    "        ax.legend([h1], [r\"(Grass-CG) $<G - \\tau G, G>$ ($\\eta$ = {0:6.5f}, $\\lambda$ = {1:5.3f})\".format(eta, lambda_var)], \\\n",
    "                             fontsize = 15, loc='center left', frameon=True)\n",
    "        #ax.legend([h1, h2], [r\"(Grass-GD) G-norm ($\\eta$ = {0:6.5f}, $\\lambda$ = {1:5.3f})\".format(eta, lambda_array[i]), \\\n",
    "        #                     r\"(Grass-CG) G-norm ($\\eta$ = {0:6.5f}, $\\lambda$ = {1:5.3f})\".format(eta, lambda_array[i])], \\\n",
    "        #                     fontsize = 15, loc='upper center', frameon=True)\n",
    "    else:    \n",
    "        ax.legend([h1, h2], [r\"(Grass-GD) G-norm ($\\eta$ = {0:6.5f})\".format(eta), r\"(Grass-CG) G-norm ($\\eta$ = {0:5.4f})\".format(eta)], \\\n",
    "                             fontsize = 15, loc='lower center', frameon=True)\n",
    "    plt.grid(1)\n",
    "    plt.ylabel(r\"$\\Delta G$\", fontsize = 15)\n",
    "    plt.xlabel('iterations', fontsize = 15)\n",
    "    plt.xticks(fontsize=15)\n",
    "    plt.yticks(fontsize=15)\n",
    "plt.show    \n",
    "if Ifsavefig:\n",
    "    file_org = \"../figures/04_15_16_\" + str(trial) + \"_\"\n",
    "    file_tail = \"_sig_iters_dG_CG.eps\"\n",
    "    if choice == \"random\":\n",
    "        file_comment = \"rand\"\n",
    "    elif choice == \"near\":\n",
    "        file_comment = \"near\"\n",
    "        \n",
    "    if add_reg:\n",
    "        file_comment = file_comment +'Reg'\n",
    "        \n",
    "    fig.savefig(file_org + file_comment + file_tail )  "
   ]
  },
  {
   "cell_type": "code",
   "execution_count": null,
   "metadata": {
    "collapsed": false
   },
   "outputs": [],
   "source": [
    "hist_Gnorm_conjugate_array[0][np.where(hist_deltaG_array[0]>1e4)]"
   ]
  },
  {
   "cell_type": "code",
   "execution_count": null,
   "metadata": {
    "collapsed": false
   },
   "outputs": [],
   "source": [
    "fig= plt.figure(6)\n",
    "fig.set_size_inches(12.0, 6.0*len(array_temp))\n",
    "plt.style.use('seaborn-white')\n",
    "\n",
    "for i, lambda_var in enumerate(array_temp):\n",
    "    ax = plt.subplot(len(array_temp),1,i+1)\n",
    "    #h1, = plt.plot(np.arange(max_iters), hist_Gnorm_array[i], 'b')\n",
    "    h1, = plt.plot(np.arange(max_iters), hist_kern_grass_array[i][:,2], 'b')\n",
    "    h2, = plt.plot(np.arange(max_iters), hist_kern_grass2_array[i][:,2], 'r')\n",
    "    if add_reg:\n",
    "        ax.legend([h1, h2], [r\"(Grass-GD) $\\beta$ ($\\eta$ = {0:6.5f}, $\\lambda$ = {1:5.3f})\".format(eta, lambda_var), \\\n",
    "                             r\"(Grass-CG) $\\beta$ ($\\eta$ = {0:6.5f}, $\\lambda$ = {1:5.3f})\".format(eta, lambda_var)], \\\n",
    "                             fontsize = 15, loc='lower center', frameon=True)\n",
    "    else:    \n",
    "        ax.legend([h1, h2], [r\"(Grass-GD) $\\beta$ ($\\eta$ = {0:6.5f})\".format(eta), r\"(Grass-CG) $\\beta$ ($\\eta$ = {0:5.4f})\".format(eta)], \\\n",
    "                             fontsize = 15, loc='lower center', frameon=True)\n",
    "    plt.grid(1)\n",
    "    plt.ylabel(r\"$\\beta$ noise variance\", fontsize = 15)\n",
    "    plt.xlabel('iterations', fontsize = 15)\n",
    "    plt.xticks(fontsize=15)\n",
    "    plt.yticks(fontsize=15)\n",
    "    ax.set_ylim([0,noise_interval[1]])\n",
    "plt.show    \n",
    "if Ifsavefig:\n",
    "    file_org = \"../figures/04_15_16_\" + str(trial) + \"_\"\n",
    "    file_tail = \"_sig_iters_beta.eps\"\n",
    "    if choice == \"random\":\n",
    "        file_comment = \"rand\"\n",
    "    elif choice == \"near\":\n",
    "        file_comment = \"near\"\n",
    "        \n",
    "    if add_reg:\n",
    "        file_comment = file_comment +'Reg'\n",
    "        \n",
    "    fig.savefig(file_org + file_comment + file_tail )  "
   ]
  }
 ],
 "metadata": {
  "kernelspec": {
   "display_name": "Python 3",
   "language": "python",
   "name": "python3"
  },
  "language_info": {
   "codemirror_mode": {
    "name": "ipython",
    "version": 3
   },
   "file_extension": ".py",
   "mimetype": "text/x-python",
   "name": "python",
   "nbconvert_exporter": "python",
   "pygments_lexer": "ipython3",
   "version": "3.5.1"
  }
 },
 "nbformat": 4,
 "nbformat_minor": 0
}
